{
  "cells": [
    {
      "cell_type": "markdown",
      "metadata": {
        "id": "view-in-github",
        "colab_type": "text"
      },
      "source": [
        "<a href=\"https://colab.research.google.com/github/dhia-eddine-jedidi/AlFouladhInternship/blob/main/Arabic_Documents.ipynb\" target=\"_parent\"><img src=\"https://colab.research.google.com/assets/colab-badge.svg\" alt=\"Open In Colab\"/></a>"
      ]
    },
    {
      "cell_type": "markdown",
      "metadata": {
        "id": "DqgfZr2gfL5s"
      },
      "source": [
        "Humans in the Loop **call**"
      ]
    },
    {
      "cell_type": "code",
      "execution_count": null,
      "metadata": {
        "colab": {
          "background_save": true,
          "base_uri": "https://localhost:8080/"
        },
        "id": "yXhrX7smW1U9",
        "outputId": "959a0a3f-03f5-4874-c7b1-eb0cbb783705"
      },
      "outputs": [
        {
          "output_type": "stream",
          "name": "stdout",
          "text": [
            "Downloading from https://www.kaggle.com/api/v1/datasets/download/humansintheloop/arabic-documents-ocr-dataset?dataset_version_number=1...\n"
          ]
        },
        {
          "output_type": "stream",
          "name": "stderr",
          "text": [
            " 80%|████████  | 7.15G/8.88G [04:05<00:59, 31.1MB/s]"
          ]
        }
      ],
      "source": [
        "import kagglehub\n",
        "\n",
        "# Download latest version\n",
        "path = kagglehub.dataset_download(\"humansintheloop/arabic-documents-ocr-dataset\")\n",
        "\n",
        "print(\"Path to dataset files:\", path)"
      ]
    },
    {
      "cell_type": "markdown",
      "metadata": {
        "id": "3twyL4fAfUtQ"
      },
      "source": [
        "SARD"
      ]
    },
    {
      "cell_type": "code",
      "execution_count": null,
      "metadata": {
        "id": "Y5vCFIRpXVF6"
      },
      "outputs": [],
      "source": [
        "!pip install -q datasets\n"
      ]
    },
    {
      "cell_type": "code",
      "execution_count": null,
      "metadata": {
        "colab": {
          "base_uri": "https://localhost:8080/"
        },
        "id": "y5UC8a7Efc1k",
        "outputId": "7719659b-90bd-4adc-8162-0977a3cb7150"
      },
      "outputs": [
        {
          "name": "stderr",
          "output_type": "stream",
          "text": [
            "/usr/local/lib/python3.11/dist-packages/huggingface_hub/utils/_auth.py:94: UserWarning: \n",
            "The secret `HF_TOKEN` does not exist in your Colab secrets.\n",
            "To authenticate with the Hugging Face Hub, create a token in your settings tab (https://huggingface.co/settings/tokens), set it as secret in your Google Colab and restart your session.\n",
            "You will be able to reuse this secret in all of your notebooks.\n",
            "Please note that authentication is recommended but still optional to access public models or datasets.\n",
            "  warnings.warn(\n"
          ]
        },
        {
          "name": "stdout",
          "output_type": "stream",
          "text": [
            "IterableDatasetDict({\n",
            "    Amiri: IterableDataset({\n",
            "        features: Unknown,\n",
            "        num_shards: 5\n",
            "    })\n",
            "    Sakkal_Majalla: IterableDataset({\n",
            "        features: Unknown,\n",
            "        num_shards: 5\n",
            "    })\n",
            "    Arial: IterableDataset({\n",
            "        features: Unknown,\n",
            "        num_shards: 5\n",
            "    })\n",
            "    Calibri: IterableDataset({\n",
            "        features: Unknown,\n",
            "        num_shards: 5\n",
            "    })\n",
            "    Scheherazade_New: IterableDataset({\n",
            "        features: Unknown,\n",
            "        num_shards: 5\n",
            "    })\n",
            "    Jozoor_Font: IterableDataset({\n",
            "        features: Unknown,\n",
            "        num_shards: 5\n",
            "    })\n",
            "    Al_Jazeera_Arabic_Regular: IterableDataset({\n",
            "        features: Unknown,\n",
            "        num_shards: 5\n",
            "    })\n",
            "    Lateef: IterableDataset({\n",
            "        features: Unknown,\n",
            "        num_shards: 5\n",
            "    })\n",
            "    Noto_Naskh_Arabic_UI: IterableDataset({\n",
            "        features: Unknown,\n",
            "        num_shards: 5\n",
            "    })\n",
            "    Thabit: IterableDataset({\n",
            "        features: Unknown,\n",
            "        num_shards: 5\n",
            "    })\n",
            "})\n"
          ]
        }
      ],
      "source": [
        "from datasets import load_dataset\n",
        "\n",
        "ds = load_dataset(\"riotu-lab/SARD-Extended\", streaming=True)\n",
        "print(ds)\n"
      ]
    },
    {
      "cell_type": "code",
      "execution_count": null,
      "metadata": {
        "colab": {
          "base_uri": "https://localhost:8080/",
          "height": 465
        },
        "id": "0e9G3btLfeno",
        "outputId": "8a42a522-0a30-45f4-9e8b-36bc112ab9f9"
      },
      "outputs": [
        {
          "data": {
            "image/png": "[encoded data removed]",
            "text/plain": [
              "<Figure size 640x480 with 1 Axes>"
            ]
          },
          "metadata": {},
          "output_type": "display_data"
        },
        {
          "name": "stdout",
          "output_type": "stream",
          "text": [
            "Text: الغلو في نظرية المؤامرة الحمد لله خالقِ السماوات والأرضين وما بينهما، مُدبِّر الأمر كله، صغيره وكبيره، تفرَّد بالخلق والأمر والتدبير: ﴿ يُدَبِّرُ الْأَمْرَ يُفَصِّلُ الْآيَاتِ لَعَلَّكُمْ بِلِقَاءِ رَبِّكُمْ تُوقِنُونَ ﴾ [الرعد: 2]، ثم الصلاة والسلام الأتمَّان على خير مبعوث بالحق، نبينا محمد القائل: ((واعلم أن الأمة لو اجتمعوا على أن يضروك بشيء، لم يضروك إلا بشيء، قد كتبه الله عليك))، وعلى آله وصحبه وسلم تسليمًا كثيرًا؛ أما بعد: فتُهرع الغالبية الساحقة من الناس إلى نظرية المؤامرة كحلٍّ سطحي وسريع لتفسير كثير من القضايا الصحية، والسياسية، والاجتماعية، والدينية، وغيرها، فالوباء صنعته أيادٍ خفية من أجل القضاء على أكبر عدد من البشرية، والزلازل التي حلَّت في المغرب وتركيا وسوريا كان سببها تفاعلاتٍ كيميائية من ورائها أيادٍ خفية، والفيضانات في ليبيا أيضًا كان سببها أياديَ خفية، وفشل الطالب في المدرسة كان سببه أيادي خفية، وإقصاء فريق معين في الدوري النهائي سببه أيادٍ خفية، وموت شخص مشهور في حادث سير وراءه أيادٍ خفية، وكل شخص يحمل تصورًا معينًا عن هذه الأيادي الخفية، وأيًّا كان ذلك التصور، فإنه يكمُن في طيَّاته تهديد عقدي قد يصل إلى الشرك الأكبر، إن المسلم العالِمَ بأسماء الله تعالى وصفاته يعلم أن الكون وما فيه تحت حكم الله وتدبيره، فالمدبر \" هو العالم بأدبار الأمور وعواقبها، ومقدر المقادير ومجاريها إلى غاياتها، يدبر الأمور بحكمته، ويصرفها على مشيئته\" [1] ، فمن استقر في قلبه معنى هذه الصفة، تحاشى أن ينسُبَ التدبير لغير الله، ولَعَلِمَ أن أقصى ما تنفذه الأيادي المزعومة قضاءُ الله؛ خيرُه وشرُّه. يَرُوج الكلام ويكثُر عن نظرية المؤامرة أثناء الأزمات أو التغيرات المفاجئة، خاصة عندما يقف الإنسان حائرًا أو عاجزًا عن معرفة السبب الرئيسي للمشكلة، فيلجأ لنظرية المؤامرة كجواب سريع يُطفئ به حُرقة الفُضول والخوف؛ جاء في بحث نشرته مجلة Sage كلامًا يوضح ما سبق: \"تُقدِّم نظريات المؤامرة للناس إجاباتٍ مبسطة، وتحديدًا كيفية نشوء الأزمة وأي من الفاعلين في المجتمع يمكن الثقة فيهم، هذه الإجابات ذات أهمية قصوى في كيفية تعامل الناس مع الأزمات، من المحتمل أن يكون للأزمة تأثير نفسي على الناس بحيث يصبحون غير متأكدين، أو يشعرون بأنهم ليسوا قادرين على التحكم في بيئتهم\" [2] . لا يجدر بشخص عاقل إنكار نظرية المؤامرة أو التهوين من شأنها؛ لأن أصحابها اليوم لا يكتفون بتخطيطها والتدبير لها، بل ينشرونها\n"
          ]
        }
      ],
      "source": [
        "from datasets import load_dataset\n",
        "from PIL import Image\n",
        "import base64\n",
        "from io import BytesIO\n",
        "import matplotlib.pyplot as plt\n",
        "\n",
        "ds = load_dataset(\"riotu-lab/SARD-Extended\", streaming=True)\n",
        "\n",
        "# Pick any font split, e.g., \"Lateef\"\n",
        "sample = next(iter(ds[\"Lateef\"]))\n",
        "\n",
        "# Decode and show image\n",
        "image_data = base64.b64decode(sample[\"image_base64\"])\n",
        "image = Image.open(BytesIO(image_data))\n",
        "\n",
        "plt.imshow(image, cmap='gray')\n",
        "plt.axis('off')\n",
        "plt.title(f\"Font: {sample['font_name']}\")\n",
        "plt.show()\n",
        "\n",
        "print(\"Text:\", sample[\"chunk\"])\n"
      ]
    },
    {
      "cell_type": "markdown",
      "metadata": {
        "id": "ocOEtiXRkfNT"
      },
      "source": [
        "#Fusion of both datasets"
      ]
    },
    {
      "cell_type": "code",
      "execution_count": null,
      "metadata": {
        "colab": {
          "base_uri": "https://localhost:8080/"
        },
        "id": "MTQoSsFdkkD_",
        "outputId": "0f45b3ab-e085-4a59-fa7b-82c5e7f4409b"
      },
      "outputs": [
        {
          "name": "stdout",
          "output_type": "stream",
          "text": [
            "Requirement already satisfied: kagglehub in /usr/local/lib/python3.11/dist-packages (0.3.12)\n",
            "Requirement already satisfied: datasets in /usr/local/lib/python3.11/dist-packages (4.0.0)\n",
            "Requirement already satisfied: pandas in /usr/local/lib/python3.11/dist-packages (2.2.2)\n",
            "Requirement already satisfied: pillow in /usr/local/lib/python3.11/dist-packages (11.3.0)\n",
            "Requirement already satisfied: packaging in /usr/local/lib/python3.11/dist-packages (from kagglehub) (25.0)\n",
            "Requirement already satisfied: pyyaml in /usr/local/lib/python3.11/dist-packages (from kagglehub) (6.0.2)\n",
            "Requirement already satisfied: requests in /usr/local/lib/python3.11/dist-packages (from kagglehub) (2.32.3)\n",
            "Requirement already satisfied: tqdm in /usr/local/lib/python3.11/dist-packages (from kagglehub) (4.67.1)\n",
            "Requirement already satisfied: filelock in /usr/local/lib/python3.11/dist-packages (from datasets) (3.18.0)\n",
            "Requirement already satisfied: numpy>=1.17 in /usr/local/lib/python3.11/dist-packages (from datasets) (2.0.2)\n",
            "Requirement already satisfied: pyarrow>=15.0.0 in /usr/local/lib/python3.11/dist-packages (from datasets) (18.1.0)\n",
            "Requirement already satisfied: dill<0.3.9,>=0.3.0 in /usr/local/lib/python3.11/dist-packages (from datasets) (0.3.8)\n",
            "Requirement already satisfied: xxhash in /usr/local/lib/python3.11/dist-packages (from datasets) (3.5.0)\n",
            "Requirement already satisfied: multiprocess<0.70.17 in /usr/local/lib/python3.11/dist-packages (from datasets) (0.70.16)\n",
            "Requirement already satisfied: fsspec<=2025.3.0,>=2023.1.0 in /usr/local/lib/python3.11/dist-packages (from fsspec[http]<=2025.3.0,>=2023.1.0->datasets) (2025.3.0)\n",
            "Requirement already satisfied: huggingface-hub>=0.24.0 in /usr/local/lib/python3.11/dist-packages (from datasets) (0.34.1)\n",
            "Requirement already satisfied: python-dateutil>=2.8.2 in /usr/local/lib/python3.11/dist-packages (from pandas) (2.9.0.post0)\n",
            "Requirement already satisfied: pytz>=2020.1 in /usr/local/lib/python3.11/dist-packages (from pandas) (2025.2)\n",
            "Requirement already satisfied: tzdata>=2022.7 in /usr/local/lib/python3.11/dist-packages (from pandas) (2025.2)\n",
            "Requirement already satisfied: aiohttp!=4.0.0a0,!=4.0.0a1 in /usr/local/lib/python3.11/dist-packages (from fsspec[http]<=2025.3.0,>=2023.1.0->datasets) (3.12.14)\n",
            "Requirement already satisfied: typing-extensions>=3.7.4.3 in /usr/local/lib/python3.11/dist-packages (from huggingface-hub>=0.24.0->datasets) (4.14.1)\n",
            "Requirement already satisfied: hf-xet<2.0.0,>=1.1.3 in /usr/local/lib/python3.11/dist-packages (from huggingface-hub>=0.24.0->datasets) (1.1.5)\n",
            "Requirement already satisfied: six>=1.5 in /usr/local/lib/python3.11/dist-packages (from python-dateutil>=2.8.2->pandas) (1.17.0)\n",
            "Requirement already satisfied: charset-normalizer<4,>=2 in /usr/local/lib/python3.11/dist-packages (from requests->kagglehub) (3.4.2)\n",
            "Requirement already satisfied: idna<4,>=2.5 in /usr/local/lib/python3.11/dist-packages (from requests->kagglehub) (3.10)\n",
            "Requirement already satisfied: urllib3<3,>=1.21.1 in /usr/local/lib/python3.11/dist-packages (from requests->kagglehub) (2.5.0)\n",
            "Requirement already satisfied: certifi>=2017.4.17 in /usr/local/lib/python3.11/dist-packages (from requests->kagglehub) (2025.7.14)\n",
            "Requirement already satisfied: aiohappyeyeballs>=2.5.0 in /usr/local/lib/python3.11/dist-packages (from aiohttp!=4.0.0a0,!=4.0.0a1->fsspec[http]<=2025.3.0,>=2023.1.0->datasets) (2.6.1)\n",
            "Requirement already satisfied: aiosignal>=1.4.0 in /usr/local/lib/python3.11/dist-packages (from aiohttp!=4.0.0a0,!=4.0.0a1->fsspec[http]<=2025.3.0,>=2023.1.0->datasets) (1.4.0)\n",
            "Requirement already satisfied: attrs>=17.3.0 in /usr/local/lib/python3.11/dist-packages (from aiohttp!=4.0.0a0,!=4.0.0a1->fsspec[http]<=2025.3.0,>=2023.1.0->datasets) (25.3.0)\n",
            "Requirement already satisfied: frozenlist>=1.1.1 in /usr/local/lib/python3.11/dist-packages (from aiohttp!=4.0.0a0,!=4.0.0a1->fsspec[http]<=2025.3.0,>=2023.1.0->datasets) (1.7.0)\n",
            "Requirement already satisfied: multidict<7.0,>=4.5 in /usr/local/lib/python3.11/dist-packages (from aiohttp!=4.0.0a0,!=4.0.0a1->fsspec[http]<=2025.3.0,>=2023.1.0->datasets) (6.6.3)\n",
            "Requirement already satisfied: propcache>=0.2.0 in /usr/local/lib/python3.11/dist-packages (from aiohttp!=4.0.0a0,!=4.0.0a1->fsspec[http]<=2025.3.0,>=2023.1.0->datasets) (0.3.2)\n",
            "Requirement already satisfied: yarl<2.0,>=1.17.0 in /usr/local/lib/python3.11/dist-packages (from aiohttp!=4.0.0a0,!=4.0.0a1->fsspec[http]<=2025.3.0,>=2023.1.0->datasets) (1.20.1)\n"
          ]
        }
      ],
      "source": [
        "# Install dependencies\n",
        "!pip install kagglehub datasets pandas pillow\n",
        "\n",
        "import os\n",
        "import json\n",
        "import pandas as pd\n",
        "from pathlib import Path\n",
        "from datasets import load_dataset\n",
        "from PIL import Image\n",
        "import warnings"
      ]
    },
    {
      "cell_type": "code",
      "execution_count": null,
      "metadata": {
        "colab": {
          "base_uri": "https://localhost:8080/",
          "height": 245
        },
        "id": "bCRmKBHLkqfb",
        "outputId": "30fbb541-fb37-4d06-ea41-fbedac5adf24"
      },
      "outputs": [
        {
          "name": "stdout",
          "output_type": "stream",
          "text": [
            "Error: Base directory not found at /kaggle/input/arabic-documents-ocr-dataset/Documents/Book\n",
            "Inspecting dataset structure...\n"
          ]
        },
        {
          "ename": "FileNotFoundError",
          "evalue": "[Errno 2] No such file or directory: '/kaggle/input/arabic-documents-ocr-dataset/Documents/Book'",
          "output_type": "error",
          "traceback": [
            "\u001b[0;31m---------------------------------------------------------------------------\u001b[0m",
            "\u001b[0;31mFileNotFoundError\u001b[0m                         Traceback (most recent call last)",
            "\u001b[0;32m/tmp/ipython-input-1614875045.py\u001b[0m in \u001b[0;36m<cell line: 0>\u001b[0;34m()\u001b[0m\n\u001b[1;32m     17\u001b[0m \u001b[0;31m# Inspect the root directory structure\u001b[0m\u001b[0;34m\u001b[0m\u001b[0;34m\u001b[0m\u001b[0m\n\u001b[1;32m     18\u001b[0m \u001b[0mprint\u001b[0m\u001b[0;34m(\u001b[0m\u001b[0;34m\"Inspecting dataset structure...\"\u001b[0m\u001b[0;34m)\u001b[0m\u001b[0;34m\u001b[0m\u001b[0;34m\u001b[0m\u001b[0m\n\u001b[0;32m---> 19\u001b[0;31m \u001b[0mroot_contents\u001b[0m \u001b[0;34m=\u001b[0m \u001b[0mos\u001b[0m\u001b[0;34m.\u001b[0m\u001b[0mlistdir\u001b[0m\u001b[0;34m(\u001b[0m\u001b[0mhitl_path\u001b[0m\u001b[0;34m)\u001b[0m\u001b[0;34m\u001b[0m\u001b[0;34m\u001b[0m\u001b[0m\n\u001b[0m\u001b[1;32m     20\u001b[0m \u001b[0mprint\u001b[0m\u001b[0;34m(\u001b[0m\u001b[0;34mf\"Root contents: {root_contents}\"\u001b[0m\u001b[0;34m)\u001b[0m\u001b[0;34m\u001b[0m\u001b[0;34m\u001b[0m\u001b[0m\n\u001b[1;32m     21\u001b[0m \u001b[0;34m\u001b[0m\u001b[0m\n",
            "\u001b[0;31mFileNotFoundError\u001b[0m: [Errno 2] No such file or directory: '/kaggle/input/arabic-documents-ocr-dataset/Documents/Book'"
          ]
        }
      ],
      "source": [
        "# Suppress PIL warnings\n",
        "warnings.filterwarnings(\"ignore\", category=UserWarning)\n",
        "\n",
        "# Set up directories\n",
        "base_dir = \"/content/arabic_ocr_data\"  # Adjust to \"/kaggle/working/\" if in Kaggle\n",
        "os.makedirs(base_dir, exist_ok=True)\n",
        "\n",
        "# --- Step 1: Process Arabic Documents OCR Dataset (Humans in the Loop) ---\n",
        "hitl_path = \"/kaggle/input/arabic-documents-ocr-dataset/Documents/Book\"  # Updated path for Kaggle\n",
        "hitl_data = []\n",
        "\n",
        "# Verify base directory\n",
        "if not os.path.exists(hitl_path):\n",
        "    print(f\"Error: Base directory not found at {hitl_path}\")\n",
        "    exit()\n",
        "\n",
        "# Inspect the root directory structure\n",
        "print(\"Inspecting dataset structure...\")\n",
        "root_contents = os.listdir(hitl_path)\n",
        "print(f\"Root contents: {root_contents}\")\n",
        "\n",
        "# Recursive search for img and ann directories\n",
        "def find_img_ann_directories(base_path):\n",
        "    img_dir = None\n",
        "    ann_dir = None\n",
        "    for item in os.listdir(base_path):\n",
        "        item_path = os.path.join(base_path, item)\n",
        "        if os.path.isdir(item_path):\n",
        "            if item.lower() in [\"img\", \"images\"]:\n",
        "                img_dir = item_path\n",
        "            elif item.lower() in [\"ann\", \"annotations\"]:\n",
        "                ann_dir = item_path\n",
        "            # Recursive search if not found yet\n",
        "            if not img_dir or not ann_dir:\n",
        "                sub_img, sub_ann = find_img_ann_directories(item_path)\n",
        "                if sub_img:\n",
        "                    img_dir = sub_img\n",
        "                if sub_ann:\n",
        "                    ann_dir = sub_ann\n",
        "    return img_dir, ann_dir\n",
        "\n",
        "# Search for img and ann in root and subdirectories\n",
        "img_dir, ann_dir = find_img_ann_directories(hitl_path)\n",
        "if img_dir and ann_dir:\n",
        "    print(f\"Found img: {img_dir} and ann: {ann_dir}\")\n",
        "    for json_file in os.listdir(ann_dir):\n",
        "        if json_file.endswith(\".json\"):\n",
        "            json_path = os.path.join(ann_dir, json_file)\n",
        "            image_name = os.path.splitext(json_file)[0] + \".jpg\"  # Assume JPG format\n",
        "            image_path = os.path.join(img_dir, image_name)\n",
        "            if os.path.exists(image_path):\n",
        "                try:\n",
        "                    with open(json_path, \"r\", encoding=\"utf-8\") as f:\n",
        "                        annotations = json.load(f)\n",
        "                    # Concatenate all text regions (Body text, Title)\n",
        "                    text_labels = [\n",
        "                        obj[\"text\"] for obj in annotations.get(\"objects\", [])\n",
        "                        if obj.get(\"class\") in [\"Body text\", \"Title\"] and \"text\" in obj\n",
        "                    ]\n",
        "                    combined_text = \" \".join(text_labels).strip()\n",
        "                    if combined_text:  # Ensure non-empty label\n",
        "                        hitl_data.append({\n",
        "                            \"image_path\": image_path,\n",
        "                            \"label\": combined_text\n",
        "                        })\n",
        "                except Exception as e:\n",
        "                    print(f\"Error processing {json_file}: {e}\")\n",
        "else:\n",
        "    print(\"Warning: No img or ann directories found in the dataset. Please check the structure or dataset content.\")\n",
        "\n",
        "hitl_df = pd.DataFrame(hitl_data)\n",
        "print(f\"Arabic Documents samples: {len(hitl_df)}\")\n"
      ]
    },
    {
      "cell_type": "code",
      "execution_count": null,
      "metadata": {
        "id": "MxthzuSFkwvp"
      },
      "outputs": [],
      "source": []
    }
  ],
  "metadata": {
    "colab": {
      "provenance": [],
      "mount_file_id": "1KPkSntqa1oREZ0GkaI32e0OunlChkA7O",
      "authorship_tag": "ABX9TyOtsreFotaiQr8uhaRWfIzI",
      "include_colab_link": true
    },
    "kernelspec": {
      "display_name": "Python 3",
      "name": "python3"
    },
    "language_info": {
      "name": "python"
    }
  },
  "nbformat": 4,
  "nbformat_minor": 0
}